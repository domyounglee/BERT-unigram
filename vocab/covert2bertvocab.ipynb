{
 "cells": [
  {
   "cell_type": "code",
   "execution_count": 7,
   "metadata": {},
   "outputs": [],
   "source": [
    "fv= open(\"vocab_ref.txt\")\n",
    "ref = [ line.strip() for line in fv]\n",
    "f = open(\"kor_bpe_news_voc32k.vocab\")\n",
    "fw = open(\"vocab.txt\",\"w\")\n",
    "for tok in ref:\n",
    "    fw.write(tok+\"\\n\")\n",
    "             \n",
    "for line in f:\n",
    "    tok,idx = tuple(line.strip().split(\"\\t\"))\n",
    "\n",
    "    if tok.startswith(\"▁\"):\n",
    "        tok = tok[1:]\n",
    "    else:\n",
    "        tok = \"##\"+tok\n",
    "\n",
    "    if tok in ref:\n",
    "        continue\n",
    "      \n",
    "    fw.write(tok+\"\\n\")\n",
    "        \n",
    "fv.close()\n",
    "f.close()\n",
    "fw.close()"
   ]
  },
  {
   "cell_type": "code",
   "execution_count": null,
   "metadata": {},
   "outputs": [],
   "source": []
  }
 ],
 "metadata": {
  "kernelspec": {
   "display_name": "Python 3",
   "language": "python",
   "name": "python3"
  },
  "language_info": {
   "codemirror_mode": {
    "name": "ipython",
    "version": 3
   },
   "file_extension": ".py",
   "mimetype": "text/x-python",
   "name": "python",
   "nbconvert_exporter": "python",
   "pygments_lexer": "ipython3",
   "version": "3.6.5"
  }
 },
 "nbformat": 4,
 "nbformat_minor": 2
}
